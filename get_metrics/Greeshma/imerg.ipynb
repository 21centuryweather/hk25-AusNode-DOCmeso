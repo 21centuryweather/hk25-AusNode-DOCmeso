{
 "cells": [
  {
   "cell_type": "markdown",
   "id": "d28c380d-dd8b-463d-b755-bb3f2198ce55",
   "metadata": {
    "execution": {
     "iopub.execute_input": "2025-05-12T13:03:03.826894Z",
     "iopub.status.busy": "2025-05-12T13:03:03.826286Z",
     "iopub.status.idle": "2025-05-12T13:03:04.957232Z",
     "shell.execute_reply": "2025-05-12T13:03:04.956108Z",
     "shell.execute_reply.started": "2025-05-12T13:03:03.826836Z"
    }
   },
   "source": [
    "### Movie time!"
   ]
  },
  {
   "cell_type": "code",
   "execution_count": 22,
   "id": "59d469be-785d-408a-980c-5b4972dae27d",
   "metadata": {
    "execution": {
     "iopub.execute_input": "2025-05-12T13:03:03.826894Z",
     "iopub.status.busy": "2025-05-12T13:03:03.826286Z",
     "iopub.status.idle": "2025-05-12T13:03:04.957232Z",
     "shell.execute_reply": "2025-05-12T13:03:04.956108Z",
     "shell.execute_reply.started": "2025-05-12T13:03:03.826836Z"
    }
   },
   "outputs": [
    {
     "name": "stderr",
     "output_type": "stream",
     "text": [
      "ffmpeg version 7.0.2 Copyright (c) 2000-2024 the FFmpeg developers\n",
      "  built with gcc 13.3.0 (conda-forge gcc 13.3.0-1)\n",
      "  configuration: --prefix=/home/conda/feedstock_root/build_artifacts/ffmpeg_1726581252443/_h_env_placehold_placehold_placehold_placehold_placehold_placehold_placehold_placehold_placehold_placehold_placehold_placehold_placehold_placehold_placehold_placehold_placehold_placehold_plac --cc=/home/conda/feedstock_root/build_artifacts/ffmpeg_1726581252443/_build_env/bin/x86_64-conda-linux-gnu-cc --cxx=/home/conda/feedstock_root/build_artifacts/ffmpeg_1726581252443/_build_env/bin/x86_64-conda-linux-gnu-c++ --nm=/home/conda/feedstock_root/build_artifacts/ffmpeg_1726581252443/_build_env/bin/x86_64-conda-linux-gnu-nm --ar=/home/conda/feedstock_root/build_artifacts/ffmpeg_1726581252443/_build_env/bin/x86_64-conda-linux-gnu-ar --disable-doc --enable-openssl --enable-demuxer=dash --enable-hardcoded-tables --enable-libfreetype --enable-libharfbuzz --enable-libfontconfig --enable-libopenh264 --enable-libdav1d --disable-gnutls --enable-libmp3lame --enable-libvpx --enable-libass --enable-pthreads --enable-vaapi --enable-libopenvino --enable-gpl --enable-libx264 --enable-libx265 --enable-libaom --enable-libsvtav1 --enable-libxml2 --enable-pic --enable-shared --disable-static --enable-version3 --enable-zlib --enable-libopus --pkg-config=/home/conda/feedstock_root/build_artifacts/ffmpeg_1726581252443/_build_env/bin/pkg-config\n",
      "  libavutil      59.  8.100 / 59.  8.100\n",
      "  libavcodec     61.  3.100 / 61.  3.100\n",
      "  libavformat    61.  1.100 / 61.  1.100\n",
      "  libavdevice    61.  1.100 / 61.  1.100\n",
      "  libavfilter    10.  1.100 / 10.  1.100\n",
      "  libswscale      8.  1.100 /  8.  1.100\n",
      "  libswresample   5.  1.100 /  5.  1.100\n",
      "  libpostproc    58.  1.100 / 58.  1.100\n",
      "Input #0, gif, from '/scratch/up6/gs5098/hackathon2025/hk25-AusNode-DOCmeso/get_metrics/Greeshma/monthly_mean.gif':\n",
      "  Duration: 00:00:07.50, start: 0.000000, bitrate: 718 kb/s\n",
      "  Stream #0:0: Video: gif, bgra, 993x743, 2 fps, 2 tbr, 100 tbn\n",
      "Stream mapping:\n",
      "  Stream #0:0 -> #0:0 (gif (native) -> h264 (libx264))\n",
      "Press [q] to stop, [?] for help\n",
      "[libx264 @ 0x55c111f66500] using cpu capabilities: MMX2 SSE2Fast SSSE3 SSE4.2 AVX FMA3 BMI2 AVX2\n",
      "[libx264 @ 0x55c111f66500] profile High, level 3.1, 4:2:0, 8-bit\n",
      "[libx264 @ 0x55c111f66500] 264 - core 164 r3095 baee400 - H.264/MPEG-4 AVC codec - Copyleft 2003-2022 - http://www.videolan.org/x264.html - options: cabac=1 ref=3 deblock=1:0:0 analyse=0x3:0x113 me=hex subme=7 psy=1 psy_rd=1.00:0.00 mixed_ref=1 me_range=16 chroma_me=1 trellis=1 8x8dct=1 cqm=0 deadzone=21,11 fast_pskip=1 chroma_qp_offset=-2 threads=10 lookahead_threads=1 sliced_threads=0 nr=0 decimate=1 interlaced=0 bluray_compat=0 constrained_intra=0 bframes=3 b_pyramid=2 b_adapt=1 b_bias=0 direct=1 weightb=1 open_gop=0 weightp=2 keyint=250 keyint_min=2 scenecut=40 intra_refresh=0 rc_lookahead=40 rc=crf mbtree=1 crf=23.0 qcomp=0.60 qpmin=0 qpmax=69 qpstep=4 ip_ratio=1.40 aq=1:1.00\n",
      "Output #0, mp4, to '/scratch/up6/gs5098/hackathon2025/hk25-AusNode-DOCmeso/get_metrics/Greeshma/monthly_mean.mp4':\n",
      "  Metadata:\n",
      "    encoder         : Lavf61.1.100\n",
      "  Stream #0:0: Video: h264 (avc1 / 0x31637661), yuv420p(progressive), 992x742, q=2-31, 2 fps, 16384 tbn\n",
      "      Metadata:\n",
      "        encoder         : Lavc61.3.100 libx264\n",
      "      Side data:\n",
      "        cpb: bitrate max/min/avg: 0/0/0 buffer size: 0 vbv_delay: N/A\n",
      "[mp4 @ 0x55c111f65480] Starting second pass: moving the moov atom to the beginning of the file\n",
      "[out#0/mp4 @ 0x55c111f55d00] video:274KiB audio:0KiB subtitle:0KiB other streams:0KiB global headers:0KiB muxing overhead: 0.370029%\n",
      "frame=   15 fps=0.0 q=-1.0 Lsize=     275KiB time=00:00:06.50 bitrate= 347.2kbits/s speed=  21x    \n",
      "[libx264 @ 0x55c111f66500] frame I:1     Avg QP:11.82  size: 62792\n",
      "[libx264 @ 0x55c111f66500] frame P:4     Avg QP:10.73  size: 21633\n",
      "[libx264 @ 0x55c111f66500] frame B:10    Avg QP:13.22  size: 13105\n",
      "[libx264 @ 0x55c111f66500] consecutive B-frames:  6.7% 13.3%  0.0% 80.0%\n",
      "[libx264 @ 0x55c111f66500] mb I  I16..4: 64.0%  3.1% 33.0%\n",
      "[libx264 @ 0x55c111f66500] mb P  I16..4: 46.4%  7.1%  8.6%  P16..4: 19.2%  5.2%  3.9%  0.0%  0.0%    skip: 9.6%\n",
      "[libx264 @ 0x55c111f66500] mb B  I16..4:  1.8%  0.7%  4.4%  B16..8:  9.6%  5.6%  3.6%  direct:36.1%  skip:38.2%  L0:46.8% L1:44.8% BI: 8.4%\n",
      "[libx264 @ 0x55c111f66500] 8x8 transform intra:9.2% inter:58.3%\n",
      "[libx264 @ 0x55c111f66500] coded y,uvDC,uvAC intra: 18.5% 31.2% 25.9% inter: 16.5% 49.3% 13.8%\n",
      "[libx264 @ 0x55c111f66500] i16 v,h,dc,p: 86% 10%  4%  0%\n",
      "[libx264 @ 0x55c111f66500] i8 v,h,dc,ddl,ddr,vr,hd,vl,hu: 16% 17% 65%  1%  0%  0%  0%  0%  0%\n",
      "[libx264 @ 0x55c111f66500] i4 v,h,dc,ddl,ddr,vr,hd,vl,hu: 42% 38% 11%  1%  2%  1%  2%  1%  2%\n",
      "[libx264 @ 0x55c111f66500] i8c dc,h,v,p: 38% 51%  9%  1%\n",
      "[libx264 @ 0x55c111f66500] Weighted P-Frames: Y:0.0% UV:0.0%\n",
      "[libx264 @ 0x55c111f66500] ref P L0: 43.1%  7.2% 26.5% 23.2%\n",
      "[libx264 @ 0x55c111f66500] ref B L0: 69.7% 23.9%  6.4%\n",
      "[libx264 @ 0x55c111f66500] ref B L1: 86.4% 13.6%\n",
      "[libx264 @ 0x55c111f66500] kb/s:299.06\n"
     ]
    },
    {
     "data": {
      "text/plain": [
       "0"
      ]
     },
     "execution_count": 22,
     "metadata": {},
     "output_type": "execute_result"
    }
   ],
   "source": [
    "import os\n",
    "import glob\n",
    "import imageio.v2 as imageio\n",
    "from natsort import natsorted\n",
    "\n",
    "path_figs = \"/scratch/up6/gs5098/hackathon2025/hk25-AusNode-DOCmeso/get_metrics/Greeshma\"\n",
    "name_all_figs = \"monthly_mean\"\n",
    "\n",
    "\n",
    "path_f = natsorted(glob.glob(f\"{path_figs}/{name_all_figs}_*.png\"))\n",
    "\n",
    "#GIF\n",
    "frames = [imageio.imread(file) for file in path_f]\n",
    "gif_path = f\"{path_figs}/{name_all_figs}.gif\"\n",
    "imageio.mimsave(gif_path, frames, fps=2)\n",
    "\n",
    "#Convert GIF to MP4 \n",
    "mp4_path = f\"{path_figs}/{name_all_figs}.mp4\"\n",
    "os.system(\n",
    "    f'ffmpeg -y -i {gif_path} -movflags faststart -pix_fmt yuv420p '\n",
    "    f'-vf \"scale=trunc(iw/2)*2:trunc(ih/2)*2\" {mp4_path}'\n",
    ")\n",
    "\n",
    "\n"
   ]
  },
  {
   "cell_type": "code",
   "execution_count": null,
   "id": "e7151e53-38cc-40e0-8478-2e2f66e0a52a",
   "metadata": {},
   "outputs": [],
   "source": []
  },
  {
   "cell_type": "code",
   "execution_count": null,
   "id": "ea548290-cd36-46f8-8f59-62137faf9065",
   "metadata": {},
   "outputs": [],
   "source": []
  },
  {
   "cell_type": "code",
   "execution_count": null,
   "id": "8761a9b8-e84a-41f5-b44e-73da1661b084",
   "metadata": {},
   "outputs": [],
   "source": []
  },
  {
   "cell_type": "code",
   "execution_count": null,
   "id": "987a34d7-a2ef-46c4-a7c0-3171f6bf57c9",
   "metadata": {},
   "outputs": [],
   "source": []
  },
  {
   "cell_type": "code",
   "execution_count": null,
   "id": "664a74a2-4d08-412c-91c9-0ccc4b8b5017",
   "metadata": {},
   "outputs": [],
   "source": []
  }
 ],
 "metadata": {
  "kernelspec": {
   "display_name": "Python [conda env:analysis3-24.07] *",
   "language": "python",
   "name": "conda-env-analysis3-24.07-py"
  },
  "language_info": {
   "codemirror_mode": {
    "name": "ipython",
    "version": 3
   },
   "file_extension": ".py",
   "mimetype": "text/x-python",
   "name": "python",
   "nbconvert_exporter": "python",
   "pygments_lexer": "ipython3",
   "version": "3.10.16"
  }
 },
 "nbformat": 4,
 "nbformat_minor": 5
}
