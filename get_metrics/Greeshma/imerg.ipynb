{
 "cells": [
  {
   "cell_type": "code",
   "execution_count": 1,
   "id": "f2c059f5-55db-4a31-b472-36b617aa6a58",
   "metadata": {
    "execution": {
     "iopub.execute_input": "2025-05-12T14:13:48.775553Z",
     "iopub.status.busy": "2025-05-12T14:13:48.775226Z",
     "iopub.status.idle": "2025-05-12T14:13:52.234075Z",
     "shell.execute_reply": "2025-05-12T14:13:52.232687Z",
     "shell.execute_reply.started": "2025-05-12T14:13:48.775505Z"
    }
   },
   "outputs": [],
   "source": [
    "import pandas as pd\n",
    "import datetime as dt\n",
    "import numpy as np\n",
    "import netCDF4 as nc\n",
    "import xarray as xr\n",
    "import matplotlib.pyplot as plt\n",
    "from pathlib import Path\n",
    "import cartopy.crs as ccrs\n",
    "import cartopy.feature as cfeature\n",
    "import cartopy.mpl.ticker as cticker\n",
    "\n",
    "import imageio\n",
    "import glob\n",
    "import os\n",
    "\n",
    "import warnings\n",
    "warnings.simplefilter(\"ignore\")"
   ]
  },
  {
   "cell_type": "code",
   "execution_count": 2,
   "id": "d5cda511-9e79-45a7-8476-f2712f2c66f8",
   "metadata": {
    "execution": {
     "iopub.execute_input": "2025-05-12T14:13:52.235849Z",
     "iopub.status.busy": "2025-05-12T14:13:52.235382Z",
     "iopub.status.idle": "2025-05-12T14:14:48.527971Z",
     "shell.execute_reply": "2025-05-12T14:14:48.526996Z",
     "shell.execute_reply.started": "2025-05-12T14:13:52.235815Z"
    }
   },
   "outputs": [],
   "source": [
    "\n",
    "files_2020 = sorted(glob.glob(\"/g/data/ia39/aus-ref-clim-data-nci/gpm/data/V07/2020/3B-HHR.MS.MRG*.nc\"))\n",
    "files_2021 = sorted(glob.glob(\"/g/data/ia39/aus-ref-clim-data-nci/gpm/data/V07/2021/3B-HHR.MS.MRG*.nc\"))\n",
    "all_files = files_2020 + files_2021\n",
    "\n",
    "# Dask\n",
    "ds = xr.open_mfdataset(\n",
    "    all_files,\n",
    "    combine='by_coords',\n",
    "    parallel=True,      \n",
    "    chunks={'time': 1} \n",
    ")\n"
   ]
  },
  {
   "cell_type": "code",
   "execution_count": 3,
   "id": "c9ead9fd-1512-4910-91ac-d66baa0c245c",
   "metadata": {
    "execution": {
     "iopub.execute_input": "2025-05-12T14:14:48.530738Z",
     "iopub.status.busy": "2025-05-12T14:14:48.529663Z",
     "iopub.status.idle": "2025-05-12T14:14:48.545953Z",
     "shell.execute_reply": "2025-05-12T14:14:48.544683Z",
     "shell.execute_reply.started": "2025-05-12T14:14:48.530681Z"
    }
   },
   "outputs": [
    {
     "name": "stdout",
     "output_type": "stream",
     "text": [
      "<xarray.Dataset> Size: 10TB\n",
      "Dimensions:                         (time: 34973, lon: 3600, lat: 1800, bnds: 2)\n",
      "Coordinates:\n",
      "  * lat                             (lat) float32 7kB -89.95 -89.85 ... 89.95\n",
      "  * lon                             (lon) float32 14kB -179.9 -179.9 ... 179.9\n",
      "  * time                            (time) datetime64[ns] 280kB 2020-01-01 .....\n",
      "Dimensions without coordinates: bnds\n",
      "Data variables: (12/13)\n",
      "    IRinfluence                     (time, lon, lat) float32 907GB dask.array<chunksize=(1, 600, 600), meta=np.ndarray>\n",
      "    IRprecipitation                 (time, lon, lat) float32 907GB dask.array<chunksize=(1, 600, 600), meta=np.ndarray>\n",
      "    MWobservationTime               (time, lon, lat) timedelta64[ns] 2TB dask.array<chunksize=(1, 600, 600), meta=np.ndarray>\n",
      "    MWprecipSource                  (time, lon, lat) float32 907GB dask.array<chunksize=(1, 600, 600), meta=np.ndarray>\n",
      "    MWprecipitation                 (time, lon, lat) float32 907GB dask.array<chunksize=(1, 600, 600), meta=np.ndarray>\n",
      "    lat_bnds                        (time, lat, bnds) float32 504MB dask.array<chunksize=(48, 1800, 2), meta=np.ndarray>\n",
      "    ...                              ...\n",
      "    precipitation                   (time, lon, lat) float32 907GB dask.array<chunksize=(1, 600, 600), meta=np.ndarray>\n",
      "    precipitationQualityIndex       (time, lon, lat) float32 907GB dask.array<chunksize=(1, 600, 600), meta=np.ndarray>\n",
      "    precipitationUncal              (time, lon, lat) float32 907GB dask.array<chunksize=(1, 600, 600), meta=np.ndarray>\n",
      "    probabilityLiquidPrecipitation  (time, lon, lat) float32 907GB dask.array<chunksize=(1, 600, 600), meta=np.ndarray>\n",
      "    randomError                     (time, lon, lat) float32 907GB dask.array<chunksize=(1, 600, 600), meta=np.ndarray>\n",
      "    time_bnds                       (time, bnds) datetime64[ns] 560kB dask.array<chunksize=(1, 2), meta=np.ndarray>\n",
      "Attributes:\n",
      "    CDI:                             Climate Data Interface version 2.0.5 (ht...\n",
      "    Conventions:                     CF-1.6\n",
      "    FileHeader:                      DOI=10.5067/GPM/IMERG/3B-HH/07;\\nDOIauth...\n",
      "    FileInfo:                        DataFormatVersion=7e;\\nTKCodeBuildVersio...\n",
      "    Grid.GridHeader:                 BinMethod=ARITHMETIC_MEAN;\\nRegistration...\n",
      "    Grid.fullnamepath:               /Grid\n",
      "    DODS_EXTRA.Unlimited_Dimension:  time\n",
      "    CDO:                             Climate Data Operators version 2.0.5 (ht...\n",
      "    NCO:                             netCDF Operators version 5.0.5 (Homepage...\n",
      "    history:                         downloaded original files from \\n       ...\n"
     ]
    }
   ],
   "source": [
    "print(ds)"
   ]
  },
  {
   "cell_type": "code",
   "execution_count": 4,
   "id": "cc009fde-7436-4d66-8bab-5feb771dca4e",
   "metadata": {
    "execution": {
     "iopub.execute_input": "2025-05-12T14:14:48.547992Z",
     "iopub.status.busy": "2025-05-12T14:14:48.547528Z",
     "iopub.status.idle": "2025-05-12T14:14:48.573946Z",
     "shell.execute_reply": "2025-05-12T14:14:48.573013Z",
     "shell.execute_reply.started": "2025-05-12T14:14:48.547942Z"
    }
   },
   "outputs": [
    {
     "data": {
      "text/html": [
       "<div><svg style=\"position: absolute; width: 0; height: 0; overflow: hidden\">\n",
       "<defs>\n",
       "<symbol id=\"icon-database\" viewBox=\"0 0 32 32\">\n",
       "<path d=\"M16 0c-8.837 0-16 2.239-16 5v4c0 2.761 7.163 5 16 5s16-2.239 16-5v-4c0-2.761-7.163-5-16-5z\"></path>\n",
       "<path d=\"M16 17c-8.837 0-16-2.239-16-5v6c0 2.761 7.163 5 16 5s16-2.239 16-5v-6c0 2.761-7.163 5-16 5z\"></path>\n",
       "<path d=\"M16 26c-8.837 0-16-2.239-16-5v6c0 2.761 7.163 5 16 5s16-2.239 16-5v-6c0 2.761-7.163 5-16 5z\"></path>\n",
       "</symbol>\n",
       "<symbol id=\"icon-file-text2\" viewBox=\"0 0 32 32\">\n",
       "<path d=\"M28.681 7.159c-0.694-0.947-1.662-2.053-2.724-3.116s-2.169-2.030-3.116-2.724c-1.612-1.182-2.393-1.319-2.841-1.319h-15.5c-1.378 0-2.5 1.121-2.5 2.5v27c0 1.378 1.122 2.5 2.5 2.5h23c1.378 0 2.5-1.122 2.5-2.5v-19.5c0-0.448-0.137-1.23-1.319-2.841zM24.543 5.457c0.959 0.959 1.712 1.825 2.268 2.543h-4.811v-4.811c0.718 0.556 1.584 1.309 2.543 2.268zM28 29.5c0 0.271-0.229 0.5-0.5 0.5h-23c-0.271 0-0.5-0.229-0.5-0.5v-27c0-0.271 0.229-0.5 0.5-0.5 0 0 15.499-0 15.5 0v7c0 0.552 0.448 1 1 1h7v19.5z\"></path>\n",
       "<path d=\"M23 26h-14c-0.552 0-1-0.448-1-1s0.448-1 1-1h14c0.552 0 1 0.448 1 1s-0.448 1-1 1z\"></path>\n",
       "<path d=\"M23 22h-14c-0.552 0-1-0.448-1-1s0.448-1 1-1h14c0.552 0 1 0.448 1 1s-0.448 1-1 1z\"></path>\n",
       "<path d=\"M23 18h-14c-0.552 0-1-0.448-1-1s0.448-1 1-1h14c0.552 0 1 0.448 1 1s-0.448 1-1 1z\"></path>\n",
       "</symbol>\n",
       "</defs>\n",
       "</svg>\n",
       "<style>/* CSS stylesheet for displaying xarray objects in jupyterlab.\n",
       " *\n",
       " */\n",
       "\n",
       ":root {\n",
       "  --xr-font-color0: var(--jp-content-font-color0, rgba(0, 0, 0, 1));\n",
       "  --xr-font-color2: var(--jp-content-font-color2, rgba(0, 0, 0, 0.54));\n",
       "  --xr-font-color3: var(--jp-content-font-color3, rgba(0, 0, 0, 0.38));\n",
       "  --xr-border-color: var(--jp-border-color2, #e0e0e0);\n",
       "  --xr-disabled-color: var(--jp-layout-color3, #bdbdbd);\n",
       "  --xr-background-color: var(--jp-layout-color0, white);\n",
       "  --xr-background-color-row-even: var(--jp-layout-color1, white);\n",
       "  --xr-background-color-row-odd: var(--jp-layout-color2, #eeeeee);\n",
       "}\n",
       "\n",
       "html[theme=\"dark\"],\n",
       "html[data-theme=\"dark\"],\n",
       "body[data-theme=\"dark\"],\n",
       "body.vscode-dark {\n",
       "  --xr-font-color0: rgba(255, 255, 255, 1);\n",
       "  --xr-font-color2: rgba(255, 255, 255, 0.54);\n",
       "  --xr-font-color3: rgba(255, 255, 255, 0.38);\n",
       "  --xr-border-color: #1f1f1f;\n",
       "  --xr-disabled-color: #515151;\n",
       "  --xr-background-color: #111111;\n",
       "  --xr-background-color-row-even: #111111;\n",
       "  --xr-background-color-row-odd: #313131;\n",
       "}\n",
       "\n",
       ".xr-wrap {\n",
       "  display: block !important;\n",
       "  min-width: 300px;\n",
       "  max-width: 700px;\n",
       "}\n",
       "\n",
       ".xr-text-repr-fallback {\n",
       "  /* fallback to plain text repr when CSS is not injected (untrusted notebook) */\n",
       "  display: none;\n",
       "}\n",
       "\n",
       ".xr-header {\n",
       "  padding-top: 6px;\n",
       "  padding-bottom: 6px;\n",
       "  margin-bottom: 4px;\n",
       "  border-bottom: solid 1px var(--xr-border-color);\n",
       "}\n",
       "\n",
       ".xr-header > div,\n",
       ".xr-header > ul {\n",
       "  display: inline;\n",
       "  margin-top: 0;\n",
       "  margin-bottom: 0;\n",
       "}\n",
       "\n",
       ".xr-obj-type,\n",
       ".xr-array-name {\n",
       "  margin-left: 2px;\n",
       "  margin-right: 10px;\n",
       "}\n",
       "\n",
       ".xr-obj-type {\n",
       "  color: var(--xr-font-color2);\n",
       "}\n",
       "\n",
       ".xr-sections {\n",
       "  padding-left: 0 !important;\n",
       "  display: grid;\n",
       "  grid-template-columns: 150px auto auto 1fr 0 20px 0 20px;\n",
       "}\n",
       "\n",
       ".xr-section-item {\n",
       "  display: contents;\n",
       "}\n",
       "\n",
       ".xr-section-item input {\n",
       "  display: inline-block;\n",
       "  opacity: 0;\n",
       "  height: 0;\n",
       "}\n",
       "\n",
       ".xr-section-item input + label {\n",
       "  color: var(--xr-disabled-color);\n",
       "}\n",
       "\n",
       ".xr-section-item input:enabled + label {\n",
       "  cursor: pointer;\n",
       "  color: var(--xr-font-color2);\n",
       "}\n",
       "\n",
       ".xr-section-item input:focus + label {\n",
       "  border: 2px solid var(--xr-font-color0);\n",
       "}\n",
       "\n",
       ".xr-section-item input:enabled + label:hover {\n",
       "  color: var(--xr-font-color0);\n",
       "}\n",
       "\n",
       ".xr-section-summary {\n",
       "  grid-column: 1;\n",
       "  color: var(--xr-font-color2);\n",
       "  font-weight: 500;\n",
       "}\n",
       "\n",
       ".xr-section-summary > span {\n",
       "  display: inline-block;\n",
       "  padding-left: 0.5em;\n",
       "}\n",
       "\n",
       ".xr-section-summary-in:disabled + label {\n",
       "  color: var(--xr-font-color2);\n",
       "}\n",
       "\n",
       ".xr-section-summary-in + label:before {\n",
       "  display: inline-block;\n",
       "  content: \"►\";\n",
       "  font-size: 11px;\n",
       "  width: 15px;\n",
       "  text-align: center;\n",
       "}\n",
       "\n",
       ".xr-section-summary-in:disabled + label:before {\n",
       "  color: var(--xr-disabled-color);\n",
       "}\n",
       "\n",
       ".xr-section-summary-in:checked + label:before {\n",
       "  content: \"▼\";\n",
       "}\n",
       "\n",
       ".xr-section-summary-in:checked + label > span {\n",
       "  display: none;\n",
       "}\n",
       "\n",
       ".xr-section-summary,\n",
       ".xr-section-inline-details {\n",
       "  padding-top: 4px;\n",
       "  padding-bottom: 4px;\n",
       "}\n",
       "\n",
       ".xr-section-inline-details {\n",
       "  grid-column: 2 / -1;\n",
       "}\n",
       "\n",
       ".xr-section-details {\n",
       "  display: none;\n",
       "  grid-column: 1 / -1;\n",
       "  margin-bottom: 5px;\n",
       "}\n",
       "\n",
       ".xr-section-summary-in:checked ~ .xr-section-details {\n",
       "  display: contents;\n",
       "}\n",
       "\n",
       ".xr-array-wrap {\n",
       "  grid-column: 1 / -1;\n",
       "  display: grid;\n",
       "  grid-template-columns: 20px auto;\n",
       "}\n",
       "\n",
       ".xr-array-wrap > label {\n",
       "  grid-column: 1;\n",
       "  vertical-align: top;\n",
       "}\n",
       "\n",
       ".xr-preview {\n",
       "  color: var(--xr-font-color3);\n",
       "}\n",
       "\n",
       ".xr-array-preview,\n",
       ".xr-array-data {\n",
       "  padding: 0 5px !important;\n",
       "  grid-column: 2;\n",
       "}\n",
       "\n",
       ".xr-array-data,\n",
       ".xr-array-in:checked ~ .xr-array-preview {\n",
       "  display: none;\n",
       "}\n",
       "\n",
       ".xr-array-in:checked ~ .xr-array-data,\n",
       ".xr-array-preview {\n",
       "  display: inline-block;\n",
       "}\n",
       "\n",
       ".xr-dim-list {\n",
       "  display: inline-block !important;\n",
       "  list-style: none;\n",
       "  padding: 0 !important;\n",
       "  margin: 0;\n",
       "}\n",
       "\n",
       ".xr-dim-list li {\n",
       "  display: inline-block;\n",
       "  padding: 0;\n",
       "  margin: 0;\n",
       "}\n",
       "\n",
       ".xr-dim-list:before {\n",
       "  content: \"(\";\n",
       "}\n",
       "\n",
       ".xr-dim-list:after {\n",
       "  content: \")\";\n",
       "}\n",
       "\n",
       ".xr-dim-list li:not(:last-child):after {\n",
       "  content: \",\";\n",
       "  padding-right: 5px;\n",
       "}\n",
       "\n",
       ".xr-has-index {\n",
       "  font-weight: bold;\n",
       "}\n",
       "\n",
       ".xr-var-list,\n",
       ".xr-var-item {\n",
       "  display: contents;\n",
       "}\n",
       "\n",
       ".xr-var-item > div,\n",
       ".xr-var-item label,\n",
       ".xr-var-item > .xr-var-name span {\n",
       "  background-color: var(--xr-background-color-row-even);\n",
       "  margin-bottom: 0;\n",
       "}\n",
       "\n",
       ".xr-var-item > .xr-var-name:hover span {\n",
       "  padding-right: 5px;\n",
       "}\n",
       "\n",
       ".xr-var-list > li:nth-child(odd) > div,\n",
       ".xr-var-list > li:nth-child(odd) > label,\n",
       ".xr-var-list > li:nth-child(odd) > .xr-var-name span {\n",
       "  background-color: var(--xr-background-color-row-odd);\n",
       "}\n",
       "\n",
       ".xr-var-name {\n",
       "  grid-column: 1;\n",
       "}\n",
       "\n",
       ".xr-var-dims {\n",
       "  grid-column: 2;\n",
       "}\n",
       "\n",
       ".xr-var-dtype {\n",
       "  grid-column: 3;\n",
       "  text-align: right;\n",
       "  color: var(--xr-font-color2);\n",
       "}\n",
       "\n",
       ".xr-var-preview {\n",
       "  grid-column: 4;\n",
       "}\n",
       "\n",
       ".xr-index-preview {\n",
       "  grid-column: 2 / 5;\n",
       "  color: var(--xr-font-color2);\n",
       "}\n",
       "\n",
       ".xr-var-name,\n",
       ".xr-var-dims,\n",
       ".xr-var-dtype,\n",
       ".xr-preview,\n",
       ".xr-attrs dt {\n",
       "  white-space: nowrap;\n",
       "  overflow: hidden;\n",
       "  text-overflow: ellipsis;\n",
       "  padding-right: 10px;\n",
       "}\n",
       "\n",
       ".xr-var-name:hover,\n",
       ".xr-var-dims:hover,\n",
       ".xr-var-dtype:hover,\n",
       ".xr-attrs dt:hover {\n",
       "  overflow: visible;\n",
       "  width: auto;\n",
       "  z-index: 1;\n",
       "}\n",
       "\n",
       ".xr-var-attrs,\n",
       ".xr-var-data,\n",
       ".xr-index-data {\n",
       "  display: none;\n",
       "  background-color: var(--xr-background-color) !important;\n",
       "  padding-bottom: 5px !important;\n",
       "}\n",
       "\n",
       ".xr-var-attrs-in:checked ~ .xr-var-attrs,\n",
       ".xr-var-data-in:checked ~ .xr-var-data,\n",
       ".xr-index-data-in:checked ~ .xr-index-data {\n",
       "  display: block;\n",
       "}\n",
       "\n",
       ".xr-var-data > table {\n",
       "  float: right;\n",
       "}\n",
       "\n",
       ".xr-var-name span,\n",
       ".xr-var-data,\n",
       ".xr-index-name div,\n",
       ".xr-index-data,\n",
       ".xr-attrs {\n",
       "  padding-left: 25px !important;\n",
       "}\n",
       "\n",
       ".xr-attrs,\n",
       ".xr-var-attrs,\n",
       ".xr-var-data,\n",
       ".xr-index-data {\n",
       "  grid-column: 1 / -1;\n",
       "}\n",
       "\n",
       "dl.xr-attrs {\n",
       "  padding: 0;\n",
       "  margin: 0;\n",
       "  display: grid;\n",
       "  grid-template-columns: 125px auto;\n",
       "}\n",
       "\n",
       ".xr-attrs dt,\n",
       ".xr-attrs dd {\n",
       "  padding: 0;\n",
       "  margin: 0;\n",
       "  float: left;\n",
       "  padding-right: 10px;\n",
       "  width: auto;\n",
       "}\n",
       "\n",
       ".xr-attrs dt {\n",
       "  font-weight: normal;\n",
       "  grid-column: 1;\n",
       "}\n",
       "\n",
       ".xr-attrs dt:hover span {\n",
       "  display: inline-block;\n",
       "  background: var(--xr-background-color);\n",
       "  padding-right: 10px;\n",
       "}\n",
       "\n",
       ".xr-attrs dd {\n",
       "  grid-column: 2;\n",
       "  white-space: pre-wrap;\n",
       "  word-break: break-all;\n",
       "}\n",
       "\n",
       ".xr-icon-database,\n",
       ".xr-icon-file-text2,\n",
       ".xr-no-icon {\n",
       "  display: inline-block;\n",
       "  vertical-align: middle;\n",
       "  width: 1em;\n",
       "  height: 1.5em !important;\n",
       "  stroke-width: 0;\n",
       "  stroke: currentColor;\n",
       "  fill: currentColor;\n",
       "}\n",
       "</style><pre class='xr-text-repr-fallback'>&lt;xarray.DataArray &#x27;time&#x27; (time: 34973)&gt; Size: 280kB\n",
       "array([&#x27;2020-01-01T00:00:00.000000000&#x27;, &#x27;2020-01-01T00:30:00.000000000&#x27;,\n",
       "       &#x27;2020-01-01T01:00:00.000000000&#x27;, ..., &#x27;2021-12-31T22:30:00.000000000&#x27;,\n",
       "       &#x27;2021-12-31T23:00:00.000000000&#x27;, &#x27;2021-12-31T23:30:00.000000000&#x27;],\n",
       "      dtype=&#x27;datetime64[ns]&#x27;)\n",
       "Coordinates:\n",
       "  * time     (time) datetime64[ns] 280kB 2020-01-01 ... 2021-12-31T23:30:00\n",
       "Attributes:\n",
       "    standard_name:  time\n",
       "    bounds:         time_bnds\n",
       "    axis:           T</pre><div class='xr-wrap' style='display:none'><div class='xr-header'><div class='xr-obj-type'>xarray.DataArray</div><div class='xr-array-name'>'time'</div><ul class='xr-dim-list'><li><span class='xr-has-index'>time</span>: 34973</li></ul></div><ul class='xr-sections'><li class='xr-section-item'><div class='xr-array-wrap'><input id='section-e4e0667b-7a2c-4eec-b910-4ff1b510f43c' class='xr-array-in' type='checkbox' checked><label for='section-e4e0667b-7a2c-4eec-b910-4ff1b510f43c' title='Show/hide data repr'><svg class='icon xr-icon-database'><use xlink:href='#icon-database'></use></svg></label><div class='xr-array-preview xr-preview'><span>2020-01-01 2020-01-01T00:30:00 ... 2021-12-31T23:30:00</span></div><div class='xr-array-data'><pre>array([&#x27;2020-01-01T00:00:00.000000000&#x27;, &#x27;2020-01-01T00:30:00.000000000&#x27;,\n",
       "       &#x27;2020-01-01T01:00:00.000000000&#x27;, ..., &#x27;2021-12-31T22:30:00.000000000&#x27;,\n",
       "       &#x27;2021-12-31T23:00:00.000000000&#x27;, &#x27;2021-12-31T23:30:00.000000000&#x27;],\n",
       "      dtype=&#x27;datetime64[ns]&#x27;)</pre></div></div></li><li class='xr-section-item'><input id='section-d9137fa1-3e7a-4865-8f46-3a2f990c252b' class='xr-section-summary-in' type='checkbox'  checked><label for='section-d9137fa1-3e7a-4865-8f46-3a2f990c252b' class='xr-section-summary' >Coordinates: <span>(1)</span></label><div class='xr-section-inline-details'></div><div class='xr-section-details'><ul class='xr-var-list'><li class='xr-var-item'><div class='xr-var-name'><span class='xr-has-index'>time</span></div><div class='xr-var-dims'>(time)</div><div class='xr-var-dtype'>datetime64[ns]</div><div class='xr-var-preview xr-preview'>2020-01-01 ... 2021-12-31T23:30:00</div><input id='attrs-ebd473af-897c-4e9d-917a-d4ad203e0ddf' class='xr-var-attrs-in' type='checkbox' ><label for='attrs-ebd473af-897c-4e9d-917a-d4ad203e0ddf' title='Show/Hide attributes'><svg class='icon xr-icon-file-text2'><use xlink:href='#icon-file-text2'></use></svg></label><input id='data-015b95c7-5ed3-4a1b-bfd7-96157eb6bdd5' class='xr-var-data-in' type='checkbox'><label for='data-015b95c7-5ed3-4a1b-bfd7-96157eb6bdd5' title='Show/Hide data repr'><svg class='icon xr-icon-database'><use xlink:href='#icon-database'></use></svg></label><div class='xr-var-attrs'><dl class='xr-attrs'><dt><span>standard_name :</span></dt><dd>time</dd><dt><span>bounds :</span></dt><dd>time_bnds</dd><dt><span>axis :</span></dt><dd>T</dd></dl></div><div class='xr-var-data'><pre>array([&#x27;2020-01-01T00:00:00.000000000&#x27;, &#x27;2020-01-01T00:30:00.000000000&#x27;,\n",
       "       &#x27;2020-01-01T01:00:00.000000000&#x27;, ..., &#x27;2021-12-31T22:30:00.000000000&#x27;,\n",
       "       &#x27;2021-12-31T23:00:00.000000000&#x27;, &#x27;2021-12-31T23:30:00.000000000&#x27;],\n",
       "      dtype=&#x27;datetime64[ns]&#x27;)</pre></div></li></ul></div></li><li class='xr-section-item'><input id='section-d2e58eec-ee59-4d14-9d43-8b61d6db291f' class='xr-section-summary-in' type='checkbox'  ><label for='section-d2e58eec-ee59-4d14-9d43-8b61d6db291f' class='xr-section-summary' >Indexes: <span>(1)</span></label><div class='xr-section-inline-details'></div><div class='xr-section-details'><ul class='xr-var-list'><li class='xr-var-item'><div class='xr-index-name'><div>time</div></div><div class='xr-index-preview'>PandasIndex</div><input type='checkbox' disabled/><label></label><input id='index-c9dde05f-bacc-41ba-9555-0788b8781361' class='xr-index-data-in' type='checkbox'/><label for='index-c9dde05f-bacc-41ba-9555-0788b8781361' title='Show/Hide index repr'><svg class='icon xr-icon-database'><use xlink:href='#icon-database'></use></svg></label><div class='xr-index-data'><pre>PandasIndex(DatetimeIndex([&#x27;2020-01-01 00:00:00&#x27;, &#x27;2020-01-01 00:30:00&#x27;,\n",
       "               &#x27;2020-01-01 01:00:00&#x27;, &#x27;2020-01-01 01:30:00&#x27;,\n",
       "               &#x27;2020-01-01 02:00:00&#x27;, &#x27;2020-01-01 02:30:00&#x27;,\n",
       "               &#x27;2020-01-01 03:00:00&#x27;, &#x27;2020-01-01 03:30:00&#x27;,\n",
       "               &#x27;2020-01-01 04:00:00&#x27;, &#x27;2020-01-01 04:30:00&#x27;,\n",
       "               ...\n",
       "               &#x27;2021-12-31 19:00:00&#x27;, &#x27;2021-12-31 19:30:00&#x27;,\n",
       "               &#x27;2021-12-31 20:00:00&#x27;, &#x27;2021-12-31 20:30:00&#x27;,\n",
       "               &#x27;2021-12-31 21:00:00&#x27;, &#x27;2021-12-31 21:30:00&#x27;,\n",
       "               &#x27;2021-12-31 22:00:00&#x27;, &#x27;2021-12-31 22:30:00&#x27;,\n",
       "               &#x27;2021-12-31 23:00:00&#x27;, &#x27;2021-12-31 23:30:00&#x27;],\n",
       "              dtype=&#x27;datetime64[ns]&#x27;, name=&#x27;time&#x27;, length=34973, freq=None))</pre></div></li></ul></div></li><li class='xr-section-item'><input id='section-3017ac11-d3b4-4d36-a76d-ef056569d615' class='xr-section-summary-in' type='checkbox'  checked><label for='section-3017ac11-d3b4-4d36-a76d-ef056569d615' class='xr-section-summary' >Attributes: <span>(3)</span></label><div class='xr-section-inline-details'></div><div class='xr-section-details'><dl class='xr-attrs'><dt><span>standard_name :</span></dt><dd>time</dd><dt><span>bounds :</span></dt><dd>time_bnds</dd><dt><span>axis :</span></dt><dd>T</dd></dl></div></li></ul></div></div>"
      ],
      "text/plain": [
       "<xarray.DataArray 'time' (time: 34973)> Size: 280kB\n",
       "array(['2020-01-01T00:00:00.000000000', '2020-01-01T00:30:00.000000000',\n",
       "       '2020-01-01T01:00:00.000000000', ..., '2021-12-31T22:30:00.000000000',\n",
       "       '2021-12-31T23:00:00.000000000', '2021-12-31T23:30:00.000000000'],\n",
       "      dtype='datetime64[ns]')\n",
       "Coordinates:\n",
       "  * time     (time) datetime64[ns] 280kB 2020-01-01 ... 2021-12-31T23:30:00\n",
       "Attributes:\n",
       "    standard_name:  time\n",
       "    bounds:         time_bnds\n",
       "    axis:           T"
      ]
     },
     "execution_count": 4,
     "metadata": {},
     "output_type": "execute_result"
    }
   ],
   "source": [
    "ds.time"
   ]
  },
  {
   "cell_type": "code",
   "execution_count": 5,
   "id": "c15a28c6-9ad6-48f0-8f41-22c82ee493ee",
   "metadata": {
    "execution": {
     "iopub.execute_input": "2025-05-12T14:14:48.575022Z",
     "iopub.status.busy": "2025-05-12T14:14:48.574789Z",
     "iopub.status.idle": "2025-05-12T14:14:48.580528Z",
     "shell.execute_reply": "2025-05-12T14:14:48.579593Z",
     "shell.execute_reply.started": "2025-05-12T14:14:48.575000Z"
    }
   },
   "outputs": [
    {
     "name": "stdout",
     "output_type": "stream",
     "text": [
      "Longitude resolution: 0.0999908447265625 degrees\n",
      "Latitude resolution: 0.09999847412109375 degrees\n"
     ]
    }
   ],
   "source": [
    "\n",
    "lons = ds.lon.values\n",
    "lats = ds.lat.values\n",
    "\n",
    "\n",
    "lon_res = lons[1] - lons[0]\n",
    "lat_res = lats[1] - lats[0]\n",
    "\n",
    "print(f\"Longitude resolution: {lon_res} degrees\")\n",
    "print(f\"Latitude resolution: {lat_res} degrees\")\n"
   ]
  },
  {
   "cell_type": "code",
   "execution_count": 6,
   "id": "4db67a0b-8a8c-4a5e-b4d0-32a34fa9a9cf",
   "metadata": {
    "execution": {
     "iopub.execute_input": "2025-05-12T14:14:48.582736Z",
     "iopub.status.busy": "2025-05-12T14:14:48.582508Z",
     "iopub.status.idle": "2025-05-12T14:14:48.745423Z",
     "shell.execute_reply": "2025-05-12T14:14:48.744393Z",
     "shell.execute_reply.started": "2025-05-12T14:14:48.582715Z"
    }
   },
   "outputs": [],
   "source": [
    "#ds_subset = ds.sel(time=slice(\"2020-01-20T00:00:00\", \"2021-04-01T00:00:00\"))\n",
    "ds_subset = ds.sel(time=slice(\"2020-01-20T00:00:00\", \"2020-01-24T00:00:00\"))\n"
   ]
  },
  {
   "cell_type": "code",
   "execution_count": 7,
   "id": "721b61ff-649e-4d2e-948d-c2af07a9fa7c",
   "metadata": {
    "execution": {
     "iopub.execute_input": "2025-05-12T14:14:48.747395Z",
     "iopub.status.busy": "2025-05-12T14:14:48.746868Z",
     "iopub.status.idle": "2025-05-12T14:14:48.760233Z",
     "shell.execute_reply": "2025-05-12T14:14:48.758947Z",
     "shell.execute_reply.started": "2025-05-12T14:14:48.747343Z"
    }
   },
   "outputs": [
    {
     "name": "stdout",
     "output_type": "stream",
     "text": [
      "<xarray.Dataset> Size: 55GB\n",
      "Dimensions:                         (time: 193, lon: 3600, lat: 1800, bnds: 2)\n",
      "Coordinates:\n",
      "  * lat                             (lat) float32 7kB -89.95 -89.85 ... 89.95\n",
      "  * lon                             (lon) float32 14kB -179.9 -179.9 ... 179.9\n",
      "  * time                            (time) datetime64[ns] 2kB 2020-01-20 ... ...\n",
      "Dimensions without coordinates: bnds\n",
      "Data variables: (12/13)\n",
      "    IRinfluence                     (time, lon, lat) float32 5GB dask.array<chunksize=(1, 600, 600), meta=np.ndarray>\n",
      "    IRprecipitation                 (time, lon, lat) float32 5GB dask.array<chunksize=(1, 600, 600), meta=np.ndarray>\n",
      "    MWobservationTime               (time, lon, lat) timedelta64[ns] 10GB dask.array<chunksize=(1, 600, 600), meta=np.ndarray>\n",
      "    MWprecipSource                  (time, lon, lat) float32 5GB dask.array<chunksize=(1, 600, 600), meta=np.ndarray>\n",
      "    MWprecipitation                 (time, lon, lat) float32 5GB dask.array<chunksize=(1, 600, 600), meta=np.ndarray>\n",
      "    lat_bnds                        (time, lat, bnds) float32 3MB dask.array<chunksize=(48, 1800, 2), meta=np.ndarray>\n",
      "    ...                              ...\n",
      "    precipitation                   (time, lon, lat) float32 5GB dask.array<chunksize=(1, 600, 600), meta=np.ndarray>\n",
      "    precipitationQualityIndex       (time, lon, lat) float32 5GB dask.array<chunksize=(1, 600, 600), meta=np.ndarray>\n",
      "    precipitationUncal              (time, lon, lat) float32 5GB dask.array<chunksize=(1, 600, 600), meta=np.ndarray>\n",
      "    probabilityLiquidPrecipitation  (time, lon, lat) float32 5GB dask.array<chunksize=(1, 600, 600), meta=np.ndarray>\n",
      "    randomError                     (time, lon, lat) float32 5GB dask.array<chunksize=(1, 600, 600), meta=np.ndarray>\n",
      "    time_bnds                       (time, bnds) datetime64[ns] 3kB dask.array<chunksize=(1, 2), meta=np.ndarray>\n",
      "Attributes:\n",
      "    CDI:                             Climate Data Interface version 2.0.5 (ht...\n",
      "    Conventions:                     CF-1.6\n",
      "    FileHeader:                      DOI=10.5067/GPM/IMERG/3B-HH/07;\\nDOIauth...\n",
      "    FileInfo:                        DataFormatVersion=7e;\\nTKCodeBuildVersio...\n",
      "    Grid.GridHeader:                 BinMethod=ARITHMETIC_MEAN;\\nRegistration...\n",
      "    Grid.fullnamepath:               /Grid\n",
      "    DODS_EXTRA.Unlimited_Dimension:  time\n",
      "    CDO:                             Climate Data Operators version 2.0.5 (ht...\n",
      "    NCO:                             netCDF Operators version 5.0.5 (Homepage...\n",
      "    history:                         downloaded original files from \\n       ...\n"
     ]
    }
   ],
   "source": [
    "print(ds_subset)\n"
   ]
  },
  {
   "cell_type": "code",
   "execution_count": 8,
   "id": "b29acad5-aaa9-4289-a320-0c1341d3e921",
   "metadata": {
    "execution": {
     "iopub.execute_input": "2025-05-12T14:14:48.762188Z",
     "iopub.status.busy": "2025-05-12T14:14:48.761710Z",
     "iopub.status.idle": "2025-05-12T14:15:09.283030Z",
     "shell.execute_reply": "2025-05-12T14:15:09.281541Z",
     "shell.execute_reply.started": "2025-05-12T14:14:48.762138Z"
    }
   },
   "outputs": [
    {
     "data": {
      "text/plain": [
       "<matplotlib.collections.QuadMesh at 0x14993d1ecfd0>"
      ]
     },
     "execution_count": 8,
     "metadata": {},
     "output_type": "execute_result"
    },
    {
     "data": {
      "image/png": "[encoded data removed]",
      "text/plain": [
       "<Figure size 640x480 with 2 Axes>"
      ]
     },
     "metadata": {},
     "output_type": "display_data"
    }
   ],
   "source": [
    "ds_subset.precipitation[0,:,:].plot()"
   ]
  },
  {
   "cell_type": "code",
   "execution_count": 9,
   "id": "97ec9d78-2643-467e-be1b-1ff0f2d66e3c",
   "metadata": {
    "execution": {
     "iopub.execute_input": "2025-05-12T14:15:09.287186Z",
     "iopub.status.busy": "2025-05-12T14:15:09.286945Z",
     "iopub.status.idle": "2025-05-12T14:15:09.300389Z",
     "shell.execute_reply": "2025-05-12T14:15:09.299336Z",
     "shell.execute_reply.started": "2025-05-12T14:15:09.287162Z"
    }
   },
   "outputs": [],
   "source": [
    "rain_mc = ds_subset.precipitation.sel(\n",
    "    lon=slice(100, 149),\n",
    "    lat=slice(-10, 10)\n",
    ")\n"
   ]
  },
  {
   "cell_type": "code",
   "execution_count": 10,
   "id": "1ea26653-9682-4f17-be2b-b7d604260dda",
   "metadata": {
    "execution": {
     "iopub.execute_input": "2025-05-12T14:15:09.301990Z",
     "iopub.status.busy": "2025-05-12T14:15:09.301678Z",
     "iopub.status.idle": "2025-05-12T14:15:11.724897Z",
     "shell.execute_reply": "2025-05-12T14:15:11.723730Z",
     "shell.execute_reply.started": "2025-05-12T14:15:09.301957Z"
    }
   },
   "outputs": [
    {
     "data": {
      "text/plain": [
       "<matplotlib.collections.QuadMesh at 0x14995bad2c20>"
      ]
     },
     "execution_count": 10,
     "metadata": {},
     "output_type": "execute_result"
    },
    {
     "data": {
      "image/png": "[encoded data removed]",
      "text/plain": [
       "<Figure size 640x480 with 2 Axes>"
      ]
     },
     "metadata": {},
     "output_type": "display_data"
    }
   ],
   "source": [
    "rain_mc[0,:,:].plot()\n"
   ]
  },
  {
   "cell_type": "code",
   "execution_count": 11,
   "id": "2169ffb3-ec8e-49dd-b535-39346ad0c915",
   "metadata": {
    "execution": {
     "iopub.execute_input": "2025-05-12T14:15:11.726063Z",
     "iopub.status.busy": "2025-05-12T14:15:11.725831Z",
     "iopub.status.idle": "2025-05-12T14:15:11.734071Z",
     "shell.execute_reply": "2025-05-12T14:15:11.732795Z",
     "shell.execute_reply.started": "2025-05-12T14:15:11.726040Z"
    }
   },
   "outputs": [
    {
     "name": "stdout",
     "output_type": "stream",
     "text": [
      "<xarray.DataArray 'precipitation' (time: 193, lon: 490, lat: 200)> Size: 76MB\n",
      "dask.array<getitem, shape=(193, 490, 200), dtype=float32, chunksize=(1, 290, 200), chunktype=numpy.ndarray>\n",
      "Coordinates:\n",
      "  * lat      (lat) float32 800B -9.95 -9.85 -9.75 -9.65 ... 9.65 9.75 9.85 9.95\n",
      "  * lon      (lon) float32 2kB 100.0 100.2 100.2 100.3 ... 148.8 148.8 148.9\n",
      "  * time     (time) datetime64[ns] 2kB 2020-01-20 ... 2020-01-24\n",
      "Attributes:\n",
      "    units:             mm/hr\n",
      "    DimensionNames:    time,lon,lat\n",
      "    Units:             mm/hr\n",
      "    CodeMissingValue:  -9999.9\n",
      "    LongName:          \\nComplete merged microwave-infrared (gauge-adjusted)\\...\n",
      "    origname:          precipitation\n",
      "    fullnamepath:      /Grid/precipitation\n"
     ]
    }
   ],
   "source": [
    "print(rain_mc)"
   ]
  },
  {
   "cell_type": "code",
   "execution_count": 13,
   "id": "bf77f274-496c-4afb-82cd-0e8d5e3d6c49",
   "metadata": {
    "execution": {
     "iopub.execute_input": "2025-05-12T14:22:06.219136Z",
     "iopub.status.busy": "2025-05-12T14:22:06.218521Z",
     "iopub.status.idle": "2025-05-12T14:22:07.041456Z",
     "shell.execute_reply": "2025-05-12T14:22:07.040465Z",
     "shell.execute_reply.started": "2025-05-12T14:22:06.219077Z"
    }
   },
   "outputs": [],
   "source": [
    "rain_mc_mm_day = rain_mc * 24\n",
    "rain_daily = rain_mc_mm_day.resample(time=\"1D\").mean()\n"
   ]
  },
  {
   "cell_type": "code",
   "execution_count": 14,
   "id": "7e9bb1cb-8650-49c9-afab-29c260def290",
   "metadata": {
    "execution": {
     "iopub.execute_input": "2025-05-12T14:22:07.875932Z",
     "iopub.status.busy": "2025-05-12T14:22:07.875648Z",
     "iopub.status.idle": "2025-05-12T14:22:07.884680Z",
     "shell.execute_reply": "2025-05-12T14:22:07.883506Z",
     "shell.execute_reply.started": "2025-05-12T14:22:07.875903Z"
    }
   },
   "outputs": [],
   "source": [
    "rain_daily = rain_daily.sortby(\"lat\")  # Ensure ascending lat order\n"
   ]
  },
  {
   "cell_type": "code",
   "execution_count": null,
   "id": "1b320c51-dd95-4d22-b380-6def8f7fcd12",
   "metadata": {
    "execution": {
     "iopub.execute_input": "2025-05-12T14:24:40.987639Z",
     "iopub.status.busy": "2025-05-12T14:24:40.987003Z"
    }
   },
   "outputs": [],
   "source": [
    "\n",
    "\n",
    "output_dir = \"/scratch/up6/gs5098/hackathon2025/hk25-AusNode-DOCmeso/get_metrics/Greeshma/\"\n",
    "\n",
    "for i in range(rain_daily.time.size):\n",
    "    day = rain_daily.isel(time=i)\n",
    "    date_str = np.datetime_as_string(day.time.values, unit='D')\n",
    "\n",
    "    fig = plt.figure(figsize=(10, 6))\n",
    "    ax = plt.axes(projection=ccrs.PlateCarree())\n",
    "\n",
    "    vmin = 0\n",
    "    vmax = 50\n",
    "\n",
    "    \n",
    "    mesh = ax.pcolormesh(\n",
    "        day['lon'], day['lat'], day.values.T,  # transpose to match x/y\n",
    "        cmap=\"Blues\", vmin=vmin, vmax=vmax,\n",
    "        transform=ccrs.PlateCarree()\n",
    "    )\n",
    "\n",
    "    ax.set_title(f\"Daily Mean Precipitation: {date_str}\")\n",
    "    ax.coastlines()\n",
    "    ax.add_feature(cfeature.LAND, facecolor='lightgray')\n",
    "\n",
    "   \n",
    "    cbar = plt.colorbar(mesh, ax=ax, orientation='vertical', label='Daily Mean Precipitation (mm/day)')\n",
    "\n",
    "    \n",
    "    gl = ax.gridlines(draw_labels=True, linewidth=0.5, color='gray', alpha=0.5, linestyle='--')\n",
    "    gl.top_labels = False\n",
    "    gl.right_labels = False\n",
    "    gl.xlabel_style = {'size': 10}\n",
    "    gl.ylabel_style = {'size': 10}\n",
    "\n",
    "    \n",
    "    filename = os.path.join(output_dir, f\"daily_mean_{date_str}.png\")\n",
    "    plt.savefig(filename, dpi=150, bbox_inches='tight')\n",
    "    plt.close(fig)\n"
   ]
  },
  {
   "cell_type": "code",
   "execution_count": null,
   "id": "f1cbe106-65a9-4d06-81c5-a4fc3ab205af",
   "metadata": {},
   "outputs": [],
   "source": []
  },
  {
   "cell_type": "code",
   "execution_count": 13,
   "id": "0a46d2c0-eed8-4e59-af41-7992e511e33f",
   "metadata": {
    "execution": {
     "iopub.execute_input": "2025-05-12T13:22:08.585657Z",
     "iopub.status.busy": "2025-05-12T13:22:08.585073Z",
     "iopub.status.idle": "2025-05-12T13:25:12.193110Z",
     "shell.execute_reply": "2025-05-12T13:25:12.191884Z",
     "shell.execute_reply.started": "2025-05-12T13:22:08.585603Z"
    }
   },
   "outputs": [
    {
     "name": "stderr",
     "output_type": "stream",
     "text": [
      "\n",
      "KeyboardInterrupt\n",
      "\n"
     ]
    }
   ],
   "source": [
    "\n",
    "\n",
    "output_dir = \"/scratch/up6/gs5098/hackathon2025/hk25-AusNode-DOCmeso/get_metrics/Greeshma/\"\n",
    "os.makedirs(output_dir, exist_ok=True)\n",
    "\n",
    "rain_monthly = rain_mc.resample(time=\"1M\").mean().compute()\n",
    "\n",
    "vmin = 0\n",
    "vmax = 40\n",
    "\n",
    "for i in range(rain_monthly.time.size):\n",
    "    month = rain_monthly.isel(time=i)\n",
    "    date_str = np.datetime_as_string(month.time.values, unit='M')  # e.g., '2020-01'\n",
    "\n",
    "    fig = plt.figure(figsize=(8, 6))\n",
    "    ax = plt.axes(projection=ccrs.PlateCarree())\n",
    "\n",
    "    month.plot(\n",
    "        ax=ax,\n",
    "        transform=ccrs.PlateCarree(),\n",
    "        cmap=\"Blues\",\n",
    "        vmin=vmin,\n",
    "        vmax=vmax,\n",
    "        cbar_kwargs={'label': 'Monthly Mean Precipitation (mm/day)'}\n",
    "    )\n",
    "\n",
    "    ax.coastlines()\n",
    "    ax.set_title(f\"Monthly Mean Precipitation: {date_str}\")\n",
    "\n",
    "    # Add lat/lon gridlines and labels\n",
    "    gl = ax.gridlines(draw_labels=True, crs=ccrs.PlateCarree(), linewidth=0.5, color='gray', alpha=0.5, linestyle='--')\n",
    "    gl.top_labels = False\n",
    "    gl.right_labels = False\n",
    "    gl.xlabel_style = {'size': 10}\n",
    "    gl.ylabel_style = {'size': 10}\n",
    "\n",
    "    # Optional: Add land for better context\n",
    "    ax.add_feature(cfeature.LAND, facecolor='lightgray')\n",
    "\n",
    "    # Save plot\n",
    "    filename = os.path.join(output_dir, f\"monthly_mean_{date_str}.png\")\n",
    "    plt.savefig(filename, dpi=150, bbox_inches='tight')\n",
    "    plt.close(fig)\n"
   ]
  },
  {
   "cell_type": "code",
   "execution_count": 22,
   "id": "59d469be-785d-408a-980c-5b4972dae27d",
   "metadata": {
    "execution": {
     "iopub.execute_input": "2025-05-12T13:03:03.826894Z",
     "iopub.status.busy": "2025-05-12T13:03:03.826286Z",
     "iopub.status.idle": "2025-05-12T13:03:04.957232Z",
     "shell.execute_reply": "2025-05-12T13:03:04.956108Z",
     "shell.execute_reply.started": "2025-05-12T13:03:03.826836Z"
    }
   },
   "outputs": [
    {
     "name": "stderr",
     "output_type": "stream",
     "text": [
      "ffmpeg version 7.0.2 Copyright (c) 2000-2024 the FFmpeg developers\n",
      "  built with gcc 13.3.0 (conda-forge gcc 13.3.0-1)\n",
      "  configuration: --prefix=/home/conda/feedstock_root/build_artifacts/ffmpeg_1726581252443/_h_env_placehold_placehold_placehold_placehold_placehold_placehold_placehold_placehold_placehold_placehold_placehold_placehold_placehold_placehold_placehold_placehold_placehold_placehold_plac --cc=/home/conda/feedstock_root/build_artifacts/ffmpeg_1726581252443/_build_env/bin/x86_64-conda-linux-gnu-cc --cxx=/home/conda/feedstock_root/build_artifacts/ffmpeg_1726581252443/_build_env/bin/x86_64-conda-linux-gnu-c++ --nm=/home/conda/feedstock_root/build_artifacts/ffmpeg_1726581252443/_build_env/bin/x86_64-conda-linux-gnu-nm --ar=/home/conda/feedstock_root/build_artifacts/ffmpeg_1726581252443/_build_env/bin/x86_64-conda-linux-gnu-ar --disable-doc --enable-openssl --enable-demuxer=dash --enable-hardcoded-tables --enable-libfreetype --enable-libharfbuzz --enable-libfontconfig --enable-libopenh264 --enable-libdav1d --disable-gnutls --enable-libmp3lame --enable-libvpx --enable-libass --enable-pthreads --enable-vaapi --enable-libopenvino --enable-gpl --enable-libx264 --enable-libx265 --enable-libaom --enable-libsvtav1 --enable-libxml2 --enable-pic --enable-shared --disable-static --enable-version3 --enable-zlib --enable-libopus --pkg-config=/home/conda/feedstock_root/build_artifacts/ffmpeg_1726581252443/_build_env/bin/pkg-config\n",
      "  libavutil      59.  8.100 / 59.  8.100\n",
      "  libavcodec     61.  3.100 / 61.  3.100\n",
      "  libavformat    61.  1.100 / 61.  1.100\n",
      "  libavdevice    61.  1.100 / 61.  1.100\n",
      "  libavfilter    10.  1.100 / 10.  1.100\n",
      "  libswscale      8.  1.100 /  8.  1.100\n",
      "  libswresample   5.  1.100 /  5.  1.100\n",
      "  libpostproc    58.  1.100 / 58.  1.100\n",
      "Input #0, gif, from '/scratch/up6/gs5098/hackathon2025/hk25-AusNode-DOCmeso/get_metrics/Greeshma/monthly_mean.gif':\n",
      "  Duration: 00:00:07.50, start: 0.000000, bitrate: 718 kb/s\n",
      "  Stream #0:0: Video: gif, bgra, 993x743, 2 fps, 2 tbr, 100 tbn\n",
      "Stream mapping:\n",
      "  Stream #0:0 -> #0:0 (gif (native) -> h264 (libx264))\n",
      "Press [q] to stop, [?] for help\n",
      "[libx264 @ 0x55c111f66500] using cpu capabilities: MMX2 SSE2Fast SSSE3 SSE4.2 AVX FMA3 BMI2 AVX2\n",
      "[libx264 @ 0x55c111f66500] profile High, level 3.1, 4:2:0, 8-bit\n",
      "[libx264 @ 0x55c111f66500] 264 - core 164 r3095 baee400 - H.264/MPEG-4 AVC codec - Copyleft 2003-2022 - http://www.videolan.org/x264.html - options: cabac=1 ref=3 deblock=1:0:0 analyse=0x3:0x113 me=hex subme=7 psy=1 psy_rd=1.00:0.00 mixed_ref=1 me_range=16 chroma_me=1 trellis=1 8x8dct=1 cqm=0 deadzone=21,11 fast_pskip=1 chroma_qp_offset=-2 threads=10 lookahead_threads=1 sliced_threads=0 nr=0 decimate=1 interlaced=0 bluray_compat=0 constrained_intra=0 bframes=3 b_pyramid=2 b_adapt=1 b_bias=0 direct=1 weightb=1 open_gop=0 weightp=2 keyint=250 keyint_min=2 scenecut=40 intra_refresh=0 rc_lookahead=40 rc=crf mbtree=1 crf=23.0 qcomp=0.60 qpmin=0 qpmax=69 qpstep=4 ip_ratio=1.40 aq=1:1.00\n",
      "Output #0, mp4, to '/scratch/up6/gs5098/hackathon2025/hk25-AusNode-DOCmeso/get_metrics/Greeshma/monthly_mean.mp4':\n",
      "  Metadata:\n",
      "    encoder         : Lavf61.1.100\n",
      "  Stream #0:0: Video: h264 (avc1 / 0x31637661), yuv420p(progressive), 992x742, q=2-31, 2 fps, 16384 tbn\n",
      "      Metadata:\n",
      "        encoder         : Lavc61.3.100 libx264\n",
      "      Side data:\n",
      "        cpb: bitrate max/min/avg: 0/0/0 buffer size: 0 vbv_delay: N/A\n",
      "[mp4 @ 0x55c111f65480] Starting second pass: moving the moov atom to the beginning of the file\n",
      "[out#0/mp4 @ 0x55c111f55d00] video:274KiB audio:0KiB subtitle:0KiB other streams:0KiB global headers:0KiB muxing overhead: 0.370029%\n",
      "frame=   15 fps=0.0 q=-1.0 Lsize=     275KiB time=00:00:06.50 bitrate= 347.2kbits/s speed=  21x    \n",
      "[libx264 @ 0x55c111f66500] frame I:1     Avg QP:11.82  size: 62792\n",
      "[libx264 @ 0x55c111f66500] frame P:4     Avg QP:10.73  size: 21633\n",
      "[libx264 @ 0x55c111f66500] frame B:10    Avg QP:13.22  size: 13105\n",
      "[libx264 @ 0x55c111f66500] consecutive B-frames:  6.7% 13.3%  0.0% 80.0%\n",
      "[libx264 @ 0x55c111f66500] mb I  I16..4: 64.0%  3.1% 33.0%\n",
      "[libx264 @ 0x55c111f66500] mb P  I16..4: 46.4%  7.1%  8.6%  P16..4: 19.2%  5.2%  3.9%  0.0%  0.0%    skip: 9.6%\n",
      "[libx264 @ 0x55c111f66500] mb B  I16..4:  1.8%  0.7%  4.4%  B16..8:  9.6%  5.6%  3.6%  direct:36.1%  skip:38.2%  L0:46.8% L1:44.8% BI: 8.4%\n",
      "[libx264 @ 0x55c111f66500] 8x8 transform intra:9.2% inter:58.3%\n",
      "[libx264 @ 0x55c111f66500] coded y,uvDC,uvAC intra: 18.5% 31.2% 25.9% inter: 16.5% 49.3% 13.8%\n",
      "[libx264 @ 0x55c111f66500] i16 v,h,dc,p: 86% 10%  4%  0%\n",
      "[libx264 @ 0x55c111f66500] i8 v,h,dc,ddl,ddr,vr,hd,vl,hu: 16% 17% 65%  1%  0%  0%  0%  0%  0%\n",
      "[libx264 @ 0x55c111f66500] i4 v,h,dc,ddl,ddr,vr,hd,vl,hu: 42% 38% 11%  1%  2%  1%  2%  1%  2%\n",
      "[libx264 @ 0x55c111f66500] i8c dc,h,v,p: 38% 51%  9%  1%\n",
      "[libx264 @ 0x55c111f66500] Weighted P-Frames: Y:0.0% UV:0.0%\n",
      "[libx264 @ 0x55c111f66500] ref P L0: 43.1%  7.2% 26.5% 23.2%\n",
      "[libx264 @ 0x55c111f66500] ref B L0: 69.7% 23.9%  6.4%\n",
      "[libx264 @ 0x55c111f66500] ref B L1: 86.4% 13.6%\n",
      "[libx264 @ 0x55c111f66500] kb/s:299.06\n"
     ]
    },
    {
     "data": {
      "text/plain": [
       "0"
      ]
     },
     "execution_count": 22,
     "metadata": {},
     "output_type": "execute_result"
    }
   ],
   "source": [
    "import os\n",
    "import glob\n",
    "import imageio.v2 as imageio\n",
    "from natsort import natsorted\n",
    "\n",
    "path_figs = \"/scratch/up6/gs5098/hackathon2025/hk25-AusNode-DOCmeso/get_metrics/Greeshma\"\n",
    "name_all_figs = \"monthly_mean\"\n",
    "\n",
    "\n",
    "path_f = natsorted(glob.glob(f\"{path_figs}/{name_all_figs}_*.png\"))\n",
    "\n",
    "#GIF\n",
    "frames = [imageio.imread(file) for file in path_f]\n",
    "gif_path = f\"{path_figs}/{name_all_figs}.gif\"\n",
    "imageio.mimsave(gif_path, frames, fps=2)\n",
    "\n",
    "#Convert GIF to MP4 \n",
    "mp4_path = f\"{path_figs}/{name_all_figs}.mp4\"\n",
    "os.system(\n",
    "    f'ffmpeg -y -i {gif_path} -movflags faststart -pix_fmt yuv420p '\n",
    "    f'-vf \"scale=trunc(iw/2)*2:trunc(ih/2)*2\" {mp4_path}'\n",
    ")\n",
    "\n",
    "\n"
   ]
  },
  {
   "cell_type": "code",
   "execution_count": null,
   "id": "e7151e53-38cc-40e0-8478-2e2f66e0a52a",
   "metadata": {},
   "outputs": [],
   "source": []
  },
  {
   "cell_type": "code",
   "execution_count": null,
   "id": "ea548290-cd36-46f8-8f59-62137faf9065",
   "metadata": {},
   "outputs": [],
   "source": []
  },
  {
   "cell_type": "code",
   "execution_count": null,
   "id": "8761a9b8-e84a-41f5-b44e-73da1661b084",
   "metadata": {},
   "outputs": [],
   "source": []
  },
  {
   "cell_type": "code",
   "execution_count": null,
   "id": "987a34d7-a2ef-46c4-a7c0-3171f6bf57c9",
   "metadata": {},
   "outputs": [],
   "source": []
  },
  {
   "cell_type": "code",
   "execution_count": null,
   "id": "664a74a2-4d08-412c-91c9-0ccc4b8b5017",
   "metadata": {},
   "outputs": [],
   "source": []
  }
 ],
 "metadata": {
  "kernelspec": {
   "display_name": "Python [conda env:analysis3-24.07] *",
   "language": "python",
   "name": "conda-env-analysis3-24.07-py"
  },
  "language_info": {
   "codemirror_mode": {
    "name": "ipython",
    "version": 3
   },
   "file_extension": ".py",
   "mimetype": "text/x-python",
   "name": "python",
   "nbconvert_exporter": "python",
   "pygments_lexer": "ipython3",
   "version": "3.10.16"
  }
 },
 "nbformat": 4,
 "nbformat_minor": 5
}
