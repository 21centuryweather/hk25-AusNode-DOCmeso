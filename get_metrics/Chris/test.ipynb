{
 "cells": [
  {
   "cell_type": "markdown",
   "id": "88b88e82-153a-44fb-a2b4-a0ec2eafcac4",
   "metadata": {},
   "source": [
    "This is my amazing script"
   ]
  },
  {
   "cell_type": "code",
   "execution_count": 2,
   "id": "a87ea798-595f-4609-8754-715ee18dbc78",
   "metadata": {},
   "outputs": [],
   "source": [
    "import xarray as xr     \n",
    "import numpy as np\n",
    "import matplotlib.pyplot as plt\n",
    "import matplotlib.cm as cm"
   ]
  },
  {
   "cell_type": "markdown",
   "id": "f8861423-0774-49da-a1ca-762dae95183d",
   "metadata": {},
   "source": [
    "Defining connected components"
   ]
  },
  {
   "cell_type": "code",
   "execution_count": null,
   "id": "bd0da933-0457-4152-bff9-1cc00237eb56",
   "metadata": {},
   "outputs": [],
   "source": [
    "# -- convective objects --"
   ]
  }
 ],
 "metadata": {
  "kernelspec": {
   "display_name": "Python [conda env:analysis3]",
   "language": "python",
   "name": "conda-env-analysis3-py"
  },
  "language_info": {
   "codemirror_mode": {
    "name": "ipython",
    "version": 3
   },
   "file_extension": ".py",
   "mimetype": "text/x-python",
   "name": "python",
   "nbconvert_exporter": "python",
   "pygments_lexer": "ipython3",
   "version": "3.10.14"
  }
 },
 "nbformat": 4,
 "nbformat_minor": 5
}
