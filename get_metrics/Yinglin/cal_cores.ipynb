{
 "cells": [
  {
   "cell_type": "code",
   "execution_count": 1,
   "metadata": {},
   "outputs": [],
   "source": [
    "import xarray as xr\n",
    "import numpy as np"
   ]
  },
  {
   "cell_type": "code",
   "execution_count": 2,
   "metadata": {},
   "outputs": [],
   "source": [
    "def calc_core(hh,pre,lat,lon):\n",
    "    cores = []\n",
    "    pre_sub = np.zeros((5,5))\n",
    "    N_row,N_col = np.shape(pre)\n",
    "    for i in range(2,N_row-4,1):\n",
    "        for j in range(2,N_col-4,1):\n",
    "            pre_sub = pre[i-2:i+3,j-2:j+3]\n",
    "            if pre_sub[2,2] == np.max(pre_sub) and pre_sub[2,2]>=5 :\n",
    "                cores.append((hh,lat[i],lon[j]))\n",
    "    cores = np.array(cores)  \n",
    "    return cores\n",
    "\n"
   ]
  },
  {
   "cell_type": "code",
   "execution_count": 3,
   "metadata": {},
   "outputs": [],
   "source": [
    "icon_path = '/scratch/nf33/hk25_DOCmeso/ICON_interp/'\n",
    "UM_path = '/scratch/nf33/hk25_DOCmeso/UM_interp/'"
   ]
  },
  {
   "cell_type": "code",
   "execution_count": 4,
   "metadata": {},
   "outputs": [],
   "source": [
    "f1 = xr.open_dataset(icon_path + 'ICON_pr_z10_2020-04-01_MarCont.nc')\n",
    "pr_icon = f1['pr']\n",
    "lat_icon = f1['lat']\n",
    "lon_icon = f1['lon']\n",
    "f1.close()\n",
    "\n",
    "f2 = xr.open_dataset(UM_path + 'UM_pr_z10_2020-04-01_MarCont.nc')\n",
    "pr_UM = f2['pr']\n",
    "lat_UM = f2['lat']\n",
    "lon_UM = f2['lon']\n",
    "f2.close()"
   ]
  },
  {
   "cell_type": "code",
   "execution_count": 6,
   "metadata": {},
   "outputs": [],
   "source": [
    "icon_cores_day = np.zeros((1,3))\n",
    "for hh in range(2): # the first colomn of the txt is the order for snapshot.\n",
    "    cores = calc_core(hh,pr_icon[hh,:,:]*3600,lat_icon,lon_icon)\n",
    "    np.shape(cores)\n",
    "    icon_cores_day = np.vstack((icon_cores_day, cores))\n"
   ]
  },
  {
   "cell_type": "code",
   "execution_count": 8,
   "metadata": {},
   "outputs": [],
   "source": [
    "unique_icon_cores_day = np.unique(icon_cores_day[1:,:], axis=0)\n",
    "np.savetxt('/g/data/w28/ym7079/Hackthon/DOC/hk25-AusNode-DOCmeso/get_metrics/Yinglin/2020-04-01.txt', unique_icon_cores_day[1:], fmt='%d %.6f %.6f', delimiter=' ')  "
   ]
  },
  {
   "cell_type": "code",
   "execution_count": 11,
   "metadata": {},
   "outputs": [],
   "source": [
    "N = 673 # the first 673 rows is for the first snapshot\n",
    "#ids = range(np.shape(unique_icon_cores_day)[0])  # should get the rows for the same snapshot. \n",
    "ids = range(N)\n",
    "data = unique_icon_cores_day \n",
    "ds = xr.Dataset(\n",
    "    {\n",
    "        'time': (['id'], data[:N, 0]),\n",
    "        'lat': (['id'], data[:N, 1]),\n",
    "        'lon': (['id'], data[:N, 2]),\n",
    "    },\n",
    "    coords={'id': ids}\n",
    ")\n",
    "\n",
    "# 3. save as netcdf file\n",
    "ds.to_netcdf('/g/data/w28/ym7079/Hackthon/DOC/hk25-AusNode-DOCmeso/get_metrics/Yinglin/2020-04-01.nc')"
   ]
  },
  {
   "cell_type": "code",
   "execution_count": null,
   "metadata": {},
   "outputs": [],
   "source": []
  }
 ],
 "metadata": {
  "kernelspec": {
   "display_name": "hackathon_kernel",
   "language": "python",
   "name": "hackathon_env"
  },
  "language_info": {
   "codemirror_mode": {
    "name": "ipython",
    "version": 3
   },
   "file_extension": ".py",
   "mimetype": "text/x-python",
   "name": "python",
   "nbconvert_exporter": "python",
   "pygments_lexer": "ipython3",
   "version": "3.10.14"
  }
 },
 "nbformat": 4,
 "nbformat_minor": 4
}
