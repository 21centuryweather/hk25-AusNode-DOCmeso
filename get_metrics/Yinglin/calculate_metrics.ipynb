{
 "cells": [
  {
   "cell_type": "code",
   "execution_count": 1,
   "id": "0a4db9c7-6c26-4ab5-94c0-8377d0409347",
   "metadata": {},
   "outputs": [],
   "source": [
    "import xarray as xr \n",
    "import skimage.measure as skm\n",
    "import matplotlib.pyplot as plt\n",
    "import cartopy.crs as ccrs\n",
    "import numpy as np\n",
    "import cartopy"
   ]
  },
  {
   "cell_type": "code",
   "execution_count": 36,
   "id": "aa06bc72-0621-4afc-9a84-1f3182062a7f",
   "metadata": {},
   "outputs": [],
   "source": [
    "path ='/g/data/nf33/hk25_DOCmeso/temp_data/observations/IMERG/doc_metrics/mean_area/IMERG/mean_area_IMERG_hrly_100-149_-13-13_3600x1800_2020-04_2021-03/'\n",
    "fh = xr.open_dataset(path+'mean_area_IMERG_hrly_100-149_-13-13_3600x1800_2020-04_2021-03_var_2020_4_1.nc')\n",
    "pr_mean = fh['var']\n",
    "lat = fh.lat\n",
    "lon = fh.lon\n",
    "time = fh.time\n",
    "fh.close()\n",
    "\n"
   ]
  },
  {
   "cell_type": "code",
   "execution_count": null,
   "id": "08e8966a-c1a7-475a-8d81-9535270df65e",
   "metadata": {},
   "outputs": [],
   "source": [
    "levels = np.arange(2,21,1)\n",
    "data_proj = ccrs.PlateCarree()\n",
    "for i in range(24):\n",
    "    fig, ax = plt.subplots(figsize=(10, 5), subplot_kw={'projection': ccrs.PlateCarree()})\n",
    "    ax.set_extent([100,150, -15, 15])\n",
    "    ax.set_title('2020-04-01:'+str(i).zfill(2)+'\\n',fontsize=15,loc='left')\n",
    "    ax.add_feature(cartopy.feature.OCEAN, color='white', zorder=0)\n",
    "    ax.add_feature(cartopy.feature.LAND, color='white',zorder=0, \n",
    "                   linewidth=0.5, edgecolor='black')    \n",
    "    ax.coastlines(resolution='50m', linewidth=0.5, color='black')\n",
    "    gl = ax.gridlines(crs=ccrs.PlateCarree(), draw_labels=True, alpha=0.5)\n",
    "    gl.xlabel_style = {'size': 15}  # 经度标签字体大小\n",
    "    gl.ylabel_style = {'size': 15}  # 纬度标签字体大小\n",
    "    gl.right_labels = False\n",
    "    c = ax.contourf(lon, lat, pr_mean[i]/24, cmap='YlGnBu',\n",
    "                    levels = levels,\n",
    "                   extend='max',transform=data_proj)\n",
    "    cbar = plt.colorbar(c,pad=0.05)\n",
    "    cbar.set_label('Hourly precipitation[mm]')\n",
    "    plt.savefig('/g/data/w28/ym7079/Hackthon/DOC/hk25-AusNode-DOCmeso/get_metrics/Yinglin/Hourly_precipitation_'+str(i).zfill(2)+'.png', dpi=300, bbox_inches='tight', transparent=False,format='png')\n",
    "    plt.show()"
   ]
  },
  {
   "cell_type": "code",
   "execution_count": null,
   "id": "2fdd913e-7ac2-414d-a0cf-ee61e842bf61",
   "metadata": {},
   "outputs": [],
   "source": []
  }
 ],
 "metadata": {
  "kernelspec": {
   "display_name": "hackathon_kernel",
   "language": "python",
   "name": "hackathon_env"
  },
  "language_info": {
   "codemirror_mode": {
    "name": "ipython",
    "version": 3
   },
   "file_extension": ".py",
   "mimetype": "text/x-python",
   "name": "python",
   "nbconvert_exporter": "python",
   "pygments_lexer": "ipython3",
   "version": "3.10.14"
  }
 },
 "nbformat": 4,
 "nbformat_minor": 5
}
