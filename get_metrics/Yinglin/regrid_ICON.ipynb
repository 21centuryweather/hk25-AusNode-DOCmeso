{
 "cells": [
  {
   "cell_type": "code",
   "execution_count": null,
   "metadata": {},
   "outputs": [],
   "source": [
    "import xarray as xr\n",
    "import healpy as hp\n",
    "import easygems.healpix as egh\n",
    "import matplotlib as mpl\n",
    "import matplotlib.pyplot as plt\n",
    "import numpy as np\n",
    "import cartopy.crs as ccrs"
   ]
  },
  {
   "cell_type": "code",
   "execution_count": null,
   "metadata": {},
   "outputs": [],
   "source": [
    "# read ICON model output\n",
    "zoom = '5'\n",
    "file = '/g/data/qx55/germany_node/d3hp003.zarr/PT1H_point_z' + zoom + '.zarr'\n",
    "\n",
    "ds2d = xr.open_zarr(file)\n",
    "ds2d\n",
    "\n",
    "pr_icon = ds2d['pr'] #precipitation\n",
    "\n",
    "this_time = '2020-01-26T00:00:00'\n",
    "egh.healpix_show(pr_icon.sel(time = this_time).squeeze(), cmap = 'viridis')\n",
    "plt.title('ICON total precipitation ' + this_time + ' HEALPix Zoom '+ zoom)\n"
   ]
  },
  {
   "cell_type": "code",
   "execution_count": null,
   "metadata": {},
   "outputs": [],
   "source": [
    "pr_icon_month = pr_icon.groupby(\"time.month\").mean() # Calculate monthly mean.\n",
    "\n",
    "this_month = 2\n",
    "egh.healpix_show(pr_icon_month.sel(month = this_month).squeeze(), cmap = 'viridis')\n",
    "plt.title('icon monthly total precipitation for February - HEALPix Zoom '+ zoom)"
   ]
  },
  {
   "cell_type": "code",
   "execution_count": null,
   "metadata": {},
   "outputs": [],
   "source": [
    "# read imerg data\n",
    "file_IMERG = '/g/data/ia39/aus-ref-clim-data-nci/frogs/data/1DD_V1/IMERG_V07B_FC/IMERG_V07B_FC.1DD.*.nc'\n",
    "\n",
    "pr_imerg = xr.open_mfdataset(file_IMERG, combine = 'nested', concat_dim = 'time')\n",
    "pr_imerg_monthly = pr_imerg['rain'].groupby('time.month').mean() # Calculate monthly mean.\n"
   ]
  },
  {
   "cell_type": "code",
   "execution_count": null,
   "metadata": {},
   "outputs": [],
   "source": [
    "# plot for IMERG monthly mean\n",
    "projection = ccrs.PlateCarree(central_longitude = 120)\n",
    "\n",
    "fig, ax = plt.subplots(subplot_kw = {\"projection\": projection})\n",
    "pr_imerg_monthly.sel(month = 2).plot(cmap = 'viridis', transform = ccrs.PlateCarree())\n",
    "ax.coastlines()\n",
    "ax.set_title('IMERG total precipitation for February 2020')"
   ]
  },
  {
   "cell_type": "code",
   "execution_count": null,
   "metadata": {},
   "outputs": [],
   "source": [
    "#regridding for maritime continent\n",
    "pr_imerg_monthly_mari = pr_imerg_monthly.sel(longitude = slice(100, 149), latitude = slice(-10, 10))\n"
   ]
  },
  {
   "cell_type": "code",
   "execution_count": null,
   "metadata": {},
   "outputs": [],
   "source": [
    "def get_nn_lon_lat_index(nside, lons, lats):\n",
    "    \"\"\"\n",
    "    nside: integer, power of 2. The return of hp.get_nside()\n",
    "    lons: uniques values of longitudes\n",
    "    lats: uniques values of latitudes\n",
    "    returns: array with the HEALPix cells that are closest to the lon/lat grid\n",
    "    \"\"\"\n",
    "    lons2, lats2 = np.meshgrid(lons, lats)\n",
    "    return xr.DataArray(\n",
    "        hp.ang2pix(nside, lons2, lats2, nest = True, lonlat = True),\n",
    "        coords=[(\"lat\", lats), (\"lon\", lons)],\n",
    "    )"
   ]
  },
  {
   "cell_type": "code",
   "execution_count": null,
   "metadata": {},
   "outputs": [],
   "source": [
    "# Find the HEALPix pixels that are closest to the imerg grid\n",
    "\n",
    "# longitudes and latitudes for the imerg grid\n",
    "lon = pr_imerg_monthly_mari['longitude'].values\n",
    "lat = pr_imerg_monthly_mari['latitude'].values\n",
    "\n",
    "# nside for icon simulation, it should be equal to 2**zoom\n",
    "this_nside = hp.get_nside(pr_imerg_monthly)\n",
    "\n",
    "cells = get_nn_lon_lat_index(this_nside, lon, lat) \n",
    "\n",
    "cells"
   ]
  },
  {
   "cell_type": "code",
   "execution_count": null,
   "metadata": {},
   "outputs": [],
   "source": [
    "# Plot icon simulation regrided to lon/lat from imerg\n",
    "fig, ax = plt.subplots(subplot_kw = {\"projection\": projection})\n",
    "pr_icon_month.isel(cell = cells).sel(month = 2).plot(cmap = 'viridis', transform = ccrs.PlateCarree())\n",
    "ax.coastlines()\n",
    "ax.set_title('ICON total precipitation for February 2020')"
   ]
  },
  {
   "cell_type": "code",
   "execution_count": null,
   "metadata": {},
   "outputs": [],
   "source": [
    "# calculate the difference\n",
    "\n",
    "pr_icon_month_regrided = pr_icon_month.isel(cell = cells) # regriding\n",
    "pr_icon_month_regrided = pr_icon_month_regrided.rename({'lon': 'longitude', 'lat': 'latitude'}) # we need to change the names to match ERA5 data"
   ]
  },
  {
   "cell_type": "code",
   "execution_count": null,
   "metadata": {},
   "outputs": [],
   "source": [
    "difference = pr_icon_month_regrided.sel(month = 2) - pr_erapr_icon_month_regrided.sel(month = 2) # difference ICON - ERA5\n",
    "\n",
    "fig, ax = plt.subplots(subplot_kw = {\"projection\": projection})\n",
    "difference.plot(ax = ax, cmap = 'RdBu', transform = ccrs.PlateCarree())\n",
    "ax.coastlines()\n",
    "ax.set_title('Difference icon - imerg, total precipitation 02/2020')"
   ]
  }
 ],
 "metadata": {
  "language_info": {
   "name": "python"
  }
 },
 "nbformat": 4,
 "nbformat_minor": 2
}
